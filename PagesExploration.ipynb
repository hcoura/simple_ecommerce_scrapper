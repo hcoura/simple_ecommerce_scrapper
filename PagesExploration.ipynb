{
 "cells": [
  {
   "cell_type": "markdown",
   "metadata": {},
   "source": [
    "We start by importing needed libs"
   ]
  },
  {
   "cell_type": "code",
   "execution_count": 24,
   "metadata": {
    "collapsed": true
   },
   "outputs": [],
   "source": [
    "import lxml.html as parser\n",
    "import requests\n",
    "import csv\n",
    "from urllib.parse import urlsplit, urljoin"
   ]
  },
  {
   "cell_type": "markdown",
   "metadata": {},
   "source": [
    "Our starting page will be of a search I made on submarino about the Moto G phone.\n",
    "The first thing is to download the page and parse it with lxml"
   ]
  },
  {
   "cell_type": "code",
   "execution_count": 25,
   "metadata": {
    "collapsed": true
   },
   "outputs": [],
   "source": [
    "start_url = \"https://www.submarino.com.br/busca/?conteudo=moto%20g&filtro=%5B%7B%22id%22%3A%22category_breadcrumb_name_level_pt_suba_1%22%2C%22value%22%3A%22Celulares%20e%20Smartphones%22%7D%2C%7B%22id%22%3A%22category_breadcrumb_name_level_pt_suba_2%22%2C%22value%22%3A%22Moto%20G%22%7D%5D&ordenacao=moreRelevant&origem=nanook\"\n",
    "r = requests.get(start_url)\n",
    "html = parser.fromstring(r.text)"
   ]
  },
  {
   "cell_type": "markdown",
   "metadata": {},
   "source": [
    "Now we inspect our product's links with our browser:\n",
    "\n",
    "![title](images/product.png)\n",
    "\n",
    "There are a few things to note from this image:\n",
    "\n",
    "1. All the product anchor tag's have the same class name which is not used anywhere else\n",
    "2. Links are relative\n",
    "3. The items page link is full of queries that are irelevant for the routing(probably some analytics/marketing stuff)\n",
    "\n",
    "Thus, we need xpath to extract the links and tinker a bit with the links for later usage"
   ]
  },
  {
   "cell_type": "code",
   "execution_count": 26,
   "metadata": {
    "collapsed": false
   },
   "outputs": [
    {
     "name": "stdout",
     "output_type": "stream",
     "text": [
      "24\n",
      "['/produto/123683569?pfm_carac=moto%20g&pfm_index=0&pfm_page=search&pfm_pos=grid&pfm_type=search_page%20', '/produto/131349704?pfm_carac=moto%20g&pfm_index=1&pfm_page=search&pfm_pos=grid&pfm_type=search_page%20', '/produto/131349641?pfm_carac=moto%20g&pfm_index=2&pfm_page=search&pfm_pos=grid&pfm_type=search_page%20']\n"
     ]
    }
   ],
   "source": [
    "links = html.xpath(\"//a[@class='card-product-url']/@href\")\n",
    "print(len(links))\n",
    "print(links[:3])"
   ]
  },
  {
   "cell_type": "code",
   "execution_count": 27,
   "metadata": {
    "collapsed": false
   },
   "outputs": [
    {
     "name": "stdout",
     "output_type": "stream",
     "text": [
      "['https://www.submarino.com.br/produto/123683569?pfm_carac=moto%20g&pfm_index=0&pfm_page=search&pfm_pos=grid&pfm_type=search_page%20', 'https://www.submarino.com.br/produto/131349704?pfm_carac=moto%20g&pfm_index=1&pfm_page=search&pfm_pos=grid&pfm_type=search_page%20', 'https://www.submarino.com.br/produto/131349641?pfm_carac=moto%20g&pfm_index=2&pfm_page=search&pfm_pos=grid&pfm_type=search_page%20']\n",
      "['https://www.submarino.com.br/produto/123683569', 'https://www.submarino.com.br/produto/131349704', 'https://www.submarino.com.br/produto/131349641']\n"
     ]
    }
   ],
   "source": [
    "base_url = \"https://www.submarino.com.br\"\n",
    "links = [urljoin(base_url, l) for l in links]\n",
    "print(links[:3])\n",
    "links = [urlsplit(l)._replace(query=\"\").geturl() for l in links]\n",
    "print(links[:3])"
   ]
  },
  {
   "cell_type": "markdown",
   "metadata": {},
   "source": [
    "Now that we have figured a way to get our product's links, we need to handle pagination\n",
    "\n",
    "By inspecting the link to load more pages we find this:\n",
    "\n",
    "![title](images/next_page.png)\n",
    "\n",
    "Using this information, we can get the next page's link"
   ]
  },
  {
   "cell_type": "code",
   "execution_count": 28,
   "metadata": {
    "collapsed": false
   },
   "outputs": [
    {
     "data": {
      "text/plain": [
       "'https://www.submarino.com.br/busca/?conteudo=moto g&filtro=[{\"id\":\"category_breadcrumb_name_level_pt_suba_1\",\"value\":\"Celulares e Smartphones\"},{\"id\":\"category_breadcrumb_name_level_pt_suba_2\",\"value\":\"Moto G\"}]&ordenacao=moreRelevant&origem=nanook&limite=24&offset=24'"
      ]
     },
     "execution_count": 28,
     "metadata": {},
     "output_type": "execute_result"
    }
   ],
   "source": [
    "next_page = urljoin(base_url, html.xpath(\"//div[@class='card card-pagination']/a/@href\")[0])\n",
    "next_page"
   ]
  },
  {
   "cell_type": "markdown",
   "metadata": {},
   "source": [
    "Now let's check everything is the same on the next page"
   ]
  },
  {
   "cell_type": "code",
   "execution_count": 29,
   "metadata": {
    "collapsed": false
   },
   "outputs": [
    {
     "name": "stdout",
     "output_type": "stream",
     "text": [
      "24\n",
      "/produto/123683569?pfm_carac=moto%20g&pfm_index=0&pfm_page=search&pfm_pos=grid&pfm_type=search_page%20\n",
      "https://www.submarino.com.br/busca/?conteudo=moto g&filtro=[{\"id\":\"category_breadcrumb_name_level_pt_suba_1\",\"value\":\"Celulares e Smartphones\"},{\"id\":\"category_breadcrumb_name_level_pt_suba_2\",\"value\":\"Moto G\"}]&limite=24&offset=0&ordenacao=moreRelevant&origem=nanook\n"
     ]
    }
   ],
   "source": [
    "r = requests.get(next_page)\n",
    "next_page_html = parser.fromstring(r.text)\n",
    "next_page_links = html.xpath(\"//a[@class='card-product-url']/@href\")\n",
    "print(len(next_page_links))\n",
    "print(next_page_links[0])\n",
    "third_page = urljoin(base_url, next_page_html.xpath(\"//div[@class='card card-pagination']/a/@href\")[0])\n",
    "print(third_page)"
   ]
  },
  {
   "cell_type": "markdown",
   "metadata": {},
   "source": [
    "The links extraction part seems to be fine, but there is something weird with the next page extraction\n",
    "\n",
    "If we take a closer look we will see two query parameters \"limite\" and \"offset\", this time they are &limite=24&offset=0, whereas the second page url has &limite=24&offset=24 as params, it seems this link is back at the first page.\n",
    "\n",
    "Let's check our links extraction, maybe on the second page we have two divs with 'card card-pagination' as classes"
   ]
  },
  {
   "cell_type": "code",
   "execution_count": 30,
   "metadata": {
    "collapsed": false
   },
   "outputs": [
    {
     "data": {
      "text/plain": [
       "['/busca/?conteudo=moto g&filtro=[{\"id\":\"category_breadcrumb_name_level_pt_suba_1\",\"value\":\"Celulares e Smartphones\"},{\"id\":\"category_breadcrumb_name_level_pt_suba_2\",\"value\":\"Moto G\"}]&limite=24&offset=0&ordenacao=moreRelevant&origem=nanook',\n",
       " '/busca/?conteudo=moto g&filtro=[{\"id\":\"category_breadcrumb_name_level_pt_suba_1\",\"value\":\"Celulares e Smartphones\"},{\"id\":\"category_breadcrumb_name_level_pt_suba_2\",\"value\":\"Moto G\"}]&limite=24&offset=48&ordenacao=moreRelevant&origem=nanook']"
      ]
     },
     "execution_count": 30,
     "metadata": {},
     "output_type": "execute_result"
    }
   ],
   "source": [
    "next_page_html.xpath(\"//div[@class='card card-pagination']/a/@href\")"
   ]
  },
  {
   "cell_type": "markdown",
   "metadata": {},
   "source": [
    "As suspected there is a previous page link and a next page link. The next one is always the last one.\n",
    "\n",
    "We can use this information do write a simple loop that will extract all the product item's links for this search"
   ]
  },
  {
   "cell_type": "code",
   "execution_count": 31,
   "metadata": {
    "collapsed": true
   },
   "outputs": [],
   "source": [
    "# First a simple url cleaning method\n",
    "def clean_url(url):\n",
    "    return urlsplit(urljoin(base_url, url))._replace(query=\"\").geturl()\n",
    "# Initialize our links array\n",
    "links = []\n",
    "# First page scraping\n",
    "r = requests.get(start_url)\n",
    "h = parser.fromstring(r.text)\n",
    "links += h.xpath(\"//a[@class='card-product-url']/@href\")\n",
    "# Next page on the starting page is at 0 index, there is no previous page\n",
    "next_page = urljoin(base_url, h.xpath(\"//div[@class='card card-pagination']/a/@href\")[0])\n",
    "while next_page:\n",
    "    r = requests.get(next_page)\n",
    "    h = parser.fromstring(r.text)\n",
    "    links += h.xpath(\"//a[@class='card-product-url']/@href\")\n",
    "    try:\n",
    "        next_page = urljoin(base_url, h.xpath(\"//div[@class='card card-pagination']/a/@href\")[1])\n",
    "    # If we get a Index Error, we are at the last page and there is only a previous page link, break the loop\n",
    "    except IndexError as e: \n",
    "            next_page = None\n",
    "            \n",
    "# Clean links\n",
    "links = [clean_url(l) for l in links]"
   ]
  },
  {
   "cell_type": "code",
   "execution_count": 32,
   "metadata": {
    "collapsed": false
   },
   "outputs": [
    {
     "name": "stdout",
     "output_type": "stream",
     "text": [
      "70\n",
      "['https://www.submarino.com.br/produto/123683569', 'https://www.submarino.com.br/produto/131349704', 'https://www.submarino.com.br/produto/131349641']\n"
     ]
    }
   ],
   "source": [
    "print(len(links))\n",
    "print(links[:3])"
   ]
  },
  {
   "cell_type": "markdown",
   "metadata": {},
   "source": [
    "As we can see, it seems we have all links for this search, let's now investigate the product name and price extraction"
   ]
  },
  {
   "cell_type": "code",
   "execution_count": 33,
   "metadata": {
    "collapsed": true
   },
   "outputs": [],
   "source": [
    "r = requests.get(\"https://www.submarino.com.br/produto/22339133/moto-g-5-geracao-plus-32gb-ouro?condition=NEW\")\n",
    "product_html = parser.fromstring(r.text)"
   ]
  },
  {
   "cell_type": "markdown",
   "metadata": {},
   "source": [
    "As before we start by inspecting the html to find where the product's name and price lie and how we could write some xpath expressions to extract them\n",
    "\n",
    "![title](images/name.png)\n",
    "\n",
    "![title](images/price.png)\n",
    "\n",
    "They seem both very straight forward, we should only need to do a little bit of string manipulation to get the price as a float"
   ]
  },
  {
   "cell_type": "code",
   "execution_count": 34,
   "metadata": {
    "collapsed": false
   },
   "outputs": [
    {
     "name": "stdout",
     "output_type": "stream",
     "text": [
      "Name: Moto G (5ª Geração) Plus 32gb - Ouro, Price: 2999.0\n"
     ]
    }
   ],
   "source": [
    "name = product_html.xpath(\"//h1[@class='product-name']/text()\")[0]\n",
    "price_str = product_html.xpath(\"//p[@class='sales-price']/text()\")[0]\n",
    "price = float(price_str[3:].replace(\".\", \"\").replace(\",\", \".\"))\n",
    "print(\"Name: %s, Price: %s\" % (name, str(price)))"
   ]
  },
  {
   "cell_type": "markdown",
   "metadata": {},
   "source": [
    "And here we finish our exploration of the pages we want to scrape as we have all the information needed to write a good crawler for this website"
   ]
  }
 ],
 "metadata": {
  "kernelspec": {
   "display_name": "Python 3",
   "language": "python",
   "name": "python3"
  },
  "language_info": {
   "codemirror_mode": {
    "name": "ipython",
    "version": 3
   },
   "file_extension": ".py",
   "mimetype": "text/x-python",
   "name": "python",
   "nbconvert_exporter": "python",
   "pygments_lexer": "ipython3",
   "version": "3.6.0"
  }
 },
 "nbformat": 4,
 "nbformat_minor": 2
}
